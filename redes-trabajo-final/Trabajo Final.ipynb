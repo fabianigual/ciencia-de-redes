{
 "cells": [
  {
   "cell_type": "markdown",
   "id": "71b7ad36",
   "metadata": {},
   "source": [
    "# Network Science - MDS - UDD 2021\n",
    "## Introducción a Ciencia de Redes\n",
    "\n",
    "\n",
    "#### Cristian Candia-Castro Vallejos, Ph.D.$^{1,2}$\n",
    "\n",
    "- [1] Data Science Institute (IDS), Universidad del Desarrollo,Chile\n",
    "- [2] Northwestern Institute on Complex Systems, Kellogg School of Management, Northwestern Unviersity, USA\n",
    "\n",
    "\n",
    "## Trabajo Final\n",
    "\n",
    "**Fecha de Presentaciones: Sábado 8 de Enero desde las 10 am**\n",
    "\n",
    "- Máximo 10 minutos*\n",
    "\n",
    "- 3 minutos de preguntas. (Total presentaciones 13 minutos).\n",
    "\n",
    "- El \"presentador\" se elegirá al azar al momento de la presentación. Ojo, quién se ausente del grupo tendrá nota mínima por reglamento.\n",
    "- **La idea es explicar todo!!!**\n",
    "\n",
    "\n",
    "\n",
    "\n",
    "\\* Máximo de slides NO HAY (recomendación general para presentaciones: máximo 1 slide por minuto).\n",
    "\n",
    "\n",
    "\n",
    "##### La restricción de tiempo serán estrictas. Aproximadamente 10min + 3 min preguntas;\n",
    "\n",
    "# Se entrega la presentación (PDF).\n",
    "Deben subir su presentación (PDF) a CANVAS 24 horas antes de la presentación.\n",
    "\n",
    "La primera diapositiva debe contener nombres / título.\n",
    "\n",
    "### Criterio de evaluación:\n",
    "\n",
    "    Uso de herramientas de red (integridad / uso correcto);\n",
    "    Capacidad para extraer información/perspectivas de sus datos utilizando las herramientas de red; \n",
    "    (data != información)\n",
    "    Calidad general del proyecto / presentación.\n",
    "\n",
    "\n",
    "\n",
    "<img src=\"./img/im1.png\" width=\"480\">\n"
   ]
  },
  {
   "cell_type": "code",
   "execution_count": null,
   "id": "65cf2297",
   "metadata": {},
   "outputs": [],
   "source": []
  },
  {
   "attachments": {},
   "cell_type": "markdown",
   "id": "b2e759ad",
   "metadata": {},
   "source": [
    "### No es suficiente medir las cosas, es necesario discutir las ideas que ellas ofrecen (significado):\n",
    "###### ¿Qué aprendiste de cada cantidad que mediste?\n",
    "###### ¿Cuáles fueron tus expectativas?\n",
    "###### ¿Cómo se comparan los resultados con tus expectativas?\n",
    "\n",
    "\n",
    "# TIPS: Entre otras cosas, calcule:\n",
    "\n",
    "- 1) Crear la grafo de carreras\n",
    "- 2) Calcular 4 métricas de centralidad para cada nodo/carrera (grado, betweenness, PageRank y Closseness Centrality), interpetar cada una y dar ejemplos con carreras concretas elegidas por ustedes.\n",
    "- 3) Graficar la distribución de grado (plot 1) y el coeficiente de clustering (eje-y) vs el grado de nodo (eje-x) (plot 2) (¿se parece a algún tipo de modelo visto en clases? ¿Por qué?)\n",
    "- 4) Encontrar comunidades en la red usando el algoritmo de Louvain y el de Girvan Newman, interprete y compare los resultados de ambos. Grafique la red donde los colores sean según las comunidades econtradas.\n",
    "- 5) Cree una matriz de distancias entre cada carrera de la red. (Explican que representa la distancia en la red y muestren la matriz en la presentación con un par de ejemplos entre pares de carrera). (revisar el comando `all_pairs_shortest_path`)\n",
    "- 6) Metricas a nivel red: densidad, diámetro y modularidad (la sacan de las comunidades).\n",
    "\n",
    "\n",
    "\n"
   ]
  },
  {
   "cell_type": "code",
   "execution_count": null,
   "id": "bbb846e4",
   "metadata": {},
   "outputs": [],
   "source": []
  },
  {
   "cell_type": "code",
   "execution_count": 3,
   "id": "440e7dbf",
   "metadata": {},
   "outputs": [],
   "source": [
    "import pandas as pd"
   ]
  },
  {
   "cell_type": "markdown",
   "id": "d13566c4",
   "metadata": {},
   "source": [
    "# Ejemplo: CARGA DATOS RED\n",
    "\n",
    "Notar que esta red es **no-dirigida y el peso no lo usaremos** "
   ]
  },
  {
   "cell_type": "code",
   "execution_count": 8,
   "id": "b427f8f6",
   "metadata": {},
   "outputs": [
    {
     "name": "stdout",
     "output_type": "stream",
     "text": [
      "   source  target\n",
      "0       1       3\n",
      "1       1       8\n",
      "2       1      29\n",
      "3       1      63\n",
      "4       1     109\n"
     ]
    },
    {
     "data": {
      "text/html": [
       "<div>\n",
       "<style scoped>\n",
       "    .dataframe tbody tr th:only-of-type {\n",
       "        vertical-align: middle;\n",
       "    }\n",
       "\n",
       "    .dataframe tbody tr th {\n",
       "        vertical-align: top;\n",
       "    }\n",
       "\n",
       "    .dataframe thead th {\n",
       "        text-align: right;\n",
       "    }\n",
       "</style>\n",
       "<table border=\"1\" class=\"dataframe\">\n",
       "  <thead>\n",
       "    <tr style=\"text-align: right;\">\n",
       "      <th></th>\n",
       "      <th>id</th>\n",
       "      <th>OECD Area ID</th>\n",
       "      <th>OECD Area</th>\n",
       "      <th>OECD Subarea ID</th>\n",
       "      <th>OECD Subarea</th>\n",
       "      <th>Generic Career ID</th>\n",
       "      <th>Generic Career</th>\n",
       "      <th>label</th>\n",
       "      <th>cluster</th>\n",
       "      <th>acategory</th>\n",
       "    </tr>\n",
       "  </thead>\n",
       "  <tbody>\n",
       "    <tr>\n",
       "      <th>0</th>\n",
       "      <td>1</td>\n",
       "      <td>8</td>\n",
       "      <td>Servicios</td>\n",
       "      <td>19</td>\n",
       "      <td>Servicios de Seguridad</td>\n",
       "      <td>1</td>\n",
       "      <td>Ingenieria en Prevencion de Riesgos</td>\n",
       "      <td>Ingenieria en Prevencion de Riesgos</td>\n",
       "      <td>Servicios</td>\n",
       "      <td>Ingenieria en Prevencion de Riesgos</td>\n",
       "    </tr>\n",
       "    <tr>\n",
       "      <th>1</th>\n",
       "      <td>2</td>\n",
       "      <td>8</td>\n",
       "      <td>Servicios</td>\n",
       "      <td>21</td>\n",
       "      <td>Servicios Personales</td>\n",
       "      <td>2</td>\n",
       "      <td>Administracion Turistica y Hotelera</td>\n",
       "      <td>Administracion Turistica y Hotelera</td>\n",
       "      <td>Servicios</td>\n",
       "      <td>Administracion Turistica y Hotelera</td>\n",
       "    </tr>\n",
       "    <tr>\n",
       "      <th>2</th>\n",
       "      <td>3</td>\n",
       "      <td>6</td>\n",
       "      <td>Ingeniería, Industria y Construcción</td>\n",
       "      <td>14</td>\n",
       "      <td>Ingeniería y Profesiones Afines</td>\n",
       "      <td>3</td>\n",
       "      <td>Ingenieria Mecanica</td>\n",
       "      <td>Ingenieria Mecanica</td>\n",
       "      <td>Ingeniería, Industria y Construcción</td>\n",
       "      <td>Ingenieria Mecanica</td>\n",
       "    </tr>\n",
       "    <tr>\n",
       "      <th>3</th>\n",
       "      <td>5</td>\n",
       "      <td>6</td>\n",
       "      <td>Ingeniería, Industria y Construcción</td>\n",
       "      <td>2</td>\n",
       "      <td>Arquitectura y Construcción</td>\n",
       "      <td>5</td>\n",
       "      <td>Construccion Civil</td>\n",
       "      <td>Construccion Civil</td>\n",
       "      <td>Ingeniería, Industria y Construcción</td>\n",
       "      <td>Construccion Civil</td>\n",
       "    </tr>\n",
       "    <tr>\n",
       "      <th>4</th>\n",
       "      <td>6</td>\n",
       "      <td>5</td>\n",
       "      <td>Humanidades y Artes</td>\n",
       "      <td>3</td>\n",
       "      <td>Artes</td>\n",
       "      <td>6</td>\n",
       "      <td>Diseno Grafico</td>\n",
       "      <td>Diseno Grafico</td>\n",
       "      <td>Humanidades y Artes</td>\n",
       "      <td>Diseno Grafico</td>\n",
       "    </tr>\n",
       "  </tbody>\n",
       "</table>\n",
       "</div>"
      ],
      "text/plain": [
       "   id  OECD Area ID                             OECD Area  OECD Subarea ID  \\\n",
       "0   1             8                             Servicios               19   \n",
       "1   2             8                             Servicios               21   \n",
       "2   3             6  Ingeniería, Industria y Construcción               14   \n",
       "3   5             6  Ingeniería, Industria y Construcción                2   \n",
       "4   6             5                   Humanidades y Artes                3   \n",
       "\n",
       "                      OECD Subarea  Generic Career ID  \\\n",
       "0           Servicios de Seguridad                  1   \n",
       "1             Servicios Personales                  2   \n",
       "2  Ingeniería y Profesiones Afines                  3   \n",
       "3      Arquitectura y Construcción                  5   \n",
       "4                            Artes                  6   \n",
       "\n",
       "                        Generic Career                                label  \\\n",
       "0  Ingenieria en Prevencion de Riesgos  Ingenieria en Prevencion de Riesgos   \n",
       "1  Administracion Turistica y Hotelera  Administracion Turistica y Hotelera   \n",
       "2                  Ingenieria Mecanica                  Ingenieria Mecanica   \n",
       "3                   Construccion Civil                   Construccion Civil   \n",
       "4                       Diseno Grafico                       Diseno Grafico   \n",
       "\n",
       "                                cluster                            acategory  \n",
       "0                             Servicios  Ingenieria en Prevencion de Riesgos  \n",
       "1                             Servicios  Administracion Turistica y Hotelera  \n",
       "2  Ingeniería, Industria y Construcción                  Ingenieria Mecanica  \n",
       "3  Ingeniería, Industria y Construcción                   Construccion Civil  \n",
       "4                   Humanidades y Artes                       Diseno Grafico  "
      ]
     },
     "execution_count": 8,
     "metadata": {},
     "output_type": "execute_result"
    }
   ],
   "source": [
    "# source y target corresponde a los codigos de la columna `Generic Career ID`\n",
    "edges2=pd.read_csv('./Data/Carreras_Chile_2012_2019_edges_0.05_.csv',sep=',')# edge list carreras\n",
    "\n",
    "nodes=pd.read_csv('./Data/Carreras_Chile_2012_2019_nodes_0.05_.csv',sep=';')# atributos nodo\n",
    "print(edges2.head())\n",
    "(nodes.head())"
   ]
  },
  {
   "cell_type": "code",
   "execution_count": 17,
   "id": "563d49fd",
   "metadata": {},
   "outputs": [
    {
     "data": {
      "image/png": "[encoded data removed]",
      "text/plain": [
       "<Figure size 432x288 with 1 Axes>"
      ]
     },
     "metadata": {},
     "output_type": "display_data"
    }
   ],
   "source": [
    "#Codigo para el tamaño del nodo\n",
    "\n",
    "import networkx as nx\n",
    "import matplotlib.pyplot as plt\n",
    "\n",
    "g = nx.Graph()# ejemplo\n",
    "g.add_edges_from([(1,2), (2,3), (2,4), (3,4)])#ejemplo\n",
    "\n",
    "# ------\n",
    "degree_g = dict(nx.degree(g))\n",
    "clustering_g=dict(nx.clustering(g))\n",
    "\n",
    "nx.draw(g, nodelist=degree_g.keys(), node_size=[v *1000 for v in degree_g.values()])\n",
    "plt.show()"
   ]
  },
  {
   "cell_type": "markdown",
   "id": "4db3e739",
   "metadata": {},
   "source": [
    "## Clustering en redes libre de escala y aleatorias"
   ]
  },
  {
   "cell_type": "code",
   "execution_count": 28,
   "id": "4b670cff",
   "metadata": {},
   "outputs": [
    {
     "data": {
      "image/png": "[encoded data removed]",
      "text/plain": [
       "<Figure size 432x288 with 1 Axes>"
      ]
     },
     "metadata": {
      "needs_background": "light"
     },
     "output_type": "display_data"
    }
   ],
   "source": [
    "G_ba = nx.barabasi_albert_graph(200, 2)# Genera garfos libre de escala\n",
    "\n",
    "degree_g = dict(nx.degree(G_ba))\n",
    "clustering_g=dict(nx.clustering(G_ba))\n",
    "\n",
    "x = degree_g.values()\n",
    "y = clustering_g.values()\n",
    "\n",
    "\n",
    "# colors = np.random.rand(N)\n",
    "# area = (30 * np.random.rand(N))**2  # 0 to 15 point radii\n",
    "\n",
    "plt.scatter(x, y, alpha=0.5)\n",
    "plt.show()\n"
   ]
  },
  {
   "cell_type": "code",
   "execution_count": 34,
   "id": "1a2e94a7",
   "metadata": {},
   "outputs": [
    {
     "data": {
      "image/png": "[encoded data removed]",
      "text/plain": [
       "<Figure size 432x288 with 1 Axes>"
      ]
     },
     "metadata": {
      "needs_background": "light"
     },
     "output_type": "display_data"
    }
   ],
   "source": [
    "G_random = nx.erdos_renyi_graph(200, 0.1)\n",
    "\n",
    "\n",
    "degree_g = dict(nx.degree(G_random))\n",
    "clustering_g=dict(nx.clustering(G_random))\n",
    "\n",
    "x = degree_g.values()\n",
    "y = clustering_g.values()\n",
    "\n",
    "\n",
    "# colors = np.random.rand(N)\n",
    "# area = (30 * np.random.rand(N))**2  # 0 to 15 point radii\n",
    "\n",
    "plt.scatter(x, y, alpha=0.5)\n",
    "plt.show()"
   ]
  }
 ],
 "metadata": {
  "kernelspec": {
   "display_name": "Python 3 (ipykernel)",
   "language": "python",
   "name": "python3"
  },
  "language_info": {
   "codemirror_mode": {
    "name": "ipython",
    "version": 3
   },
   "file_extension": ".py",
   "mimetype": "text/x-python",
   "name": "python",
   "nbconvert_exporter": "python",
   "pygments_lexer": "ipython3",
   "version": "3.10.0"
  }
 },
 "nbformat": 4,
 "nbformat_minor": 5
}
