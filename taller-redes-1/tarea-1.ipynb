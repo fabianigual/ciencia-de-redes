{
 "cells": [
  {
   "cell_type": "markdown",
   "metadata": {},
   "source": [
    "# Tarea 1 Ciencia de redes\n",
    "\n",
    "Juntense en grupos de no más de 4 personas. Tienen una semana para entregar esta tarea. Para ambos datasets `example_1.txt` y `example_2.txt`. Cada grupo deberá cargar el edge list que corresponde y hacer lo siguiente:\n",
    "\n",
    "* Pregunta 1: Calcula todas las medidas básicas que se muestran arriba. Comente ¿Qué se puede sospechar acerca de la distribución de grados de la red solo en función de la media y los grados extremos?\n",
    "\n",
    "* Pregunta 2: Graficar la distribución del grado en escala log-log. También graficarlo en escala lineal. Comente cómo encaja esto con el análisis de la pregunta 1.\n",
    "\n",
    "* Pregunta 3: Dibuje la red utilizando los dos algoritmos de diseño que se muestran arriba. ¿Cómo se refljan en la apariencia de la red los hallazgos de las preguntas 1 y 2?\n",
    "\n",
    "*Nota: Recuerden que SU interpretación de los resultados es lo más importante.*"
   ]
  },
  {
   "cell_type": "code",
   "execution_count": 1,
   "metadata": {},
   "outputs": [],
   "source": [
    "import pandas as pd \n",
    "import numpy as np \n",
    "import networkx as nx\n",
    "import matplotlib.pyplot as plt"
   ]
  },
  {
   "cell_type": "markdown",
   "metadata": {},
   "source": [
    "Cargamos redes"
   ]
  },
  {
   "cell_type": "code",
   "execution_count": 4,
   "metadata": {},
   "outputs": [],
   "source": [
    "G1 = nx.read_edgelist('./example_1.txt', comments='#',\n",
    "                     create_using=nx.Graph(), \n",
    "                     delimiter=' ', \n",
    "                     nodetype=int, \n",
    "                     encoding='utf-8')\n",
    "\n",
    "G2 = nx.read_edgelist('./example_2.txt', comments='#',\n",
    "                     create_using=nx.Graph(), \n",
    "                     delimiter=' ', \n",
    "                     nodetype=int, \n",
    "                     encoding='utf-8')"
   ]
  },
  {
   "cell_type": "markdown",
   "metadata": {},
   "source": [
    "## Pregunta 1\n",
    "\n",
    "### Calcula todas las medidas básicas que se muestran arriba. Comente ¿Qué se puede sospechar acerca de la distribución de grados de la red solo en función de la media y los grados extremos?\n",
    "\n",
    "Dataset 1"
   ]
  },
  {
   "cell_type": "code",
   "execution_count": 17,
   "metadata": {},
   "outputs": [
    {
     "name": "stdout",
     "output_type": "stream",
     "text": [
      "La red tiene en un grado promedio de 5.982, con un grado mímino de 3 y un grado máximo de 98\n"
     ]
    }
   ],
   "source": [
    "N = len(G1)\n",
    "L = G1.size()\n",
    "degrees = list(dict(G1.degree()).values())\n",
    "kmin = min(degrees)\n",
    "kmax = max(degrees)\n",
    "media = np.mean(degrees)\n",
    "print(f\"La red tiene en un grado promedio de {media}, con un grado mímino de {kmin} y un grado máximo de {kmax}\")"
   ]
  },
  {
   "cell_type": "markdown",
   "metadata": {},
   "source": [
    "R: Tanto la mediana (4) como el promedio (5.982) de los grados de la red es cercano a su grado mínimo (3), por lo que se puede sospechar que la distribución de grados de la red es asimétrica a la izquierda (asimétrica positiva) y con una cola extensa, pues el grado máximo es 98. "
   ]
  }
 ],
 "metadata": {
  "interpreter": {
   "hash": "3c6ed772ad982441b9ed44d5e7d392983d85456792a32285fa271ac12ec17e52"
  },
  "kernelspec": {
   "display_name": "Python 3.9.7 64-bit ('ciencia-de-redes': conda)",
   "language": "python",
   "name": "python3"
  },
  "language_info": {
   "codemirror_mode": {
    "name": "ipython",
    "version": 3
   },
   "file_extension": ".py",
   "mimetype": "text/x-python",
   "name": "python",
   "nbconvert_exporter": "python",
   "pygments_lexer": "ipython3",
   "version": "3.9.7"
  },
  "orig_nbformat": 4
 },
 "nbformat": 4,
 "nbformat_minor": 2
}
