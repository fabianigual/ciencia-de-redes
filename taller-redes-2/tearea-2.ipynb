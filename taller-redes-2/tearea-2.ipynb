{
 "cells": [
  {
   "cell_type": "markdown",
   "metadata": {},
   "source": [
    "# Tarea 2 \n",
    "\n",
    "Ciencia de redes\n",
    "\n",
    "> Thamara Lopez y Fabián Ortega\n",
    "\n"
   ]
  },
  {
   "cell_type": "code",
   "execution_count": 60,
   "metadata": {},
   "outputs": [],
   "source": [
    "import pandas as pd\n",
    "import numpy as np\n",
    "import matplotlib.pyplot as plt \n",
    "import collections\n",
    "import networkx as nx\n",
    "from community import community_louvain\n",
    "\n",
    "\n",
    "%matplotlib inline"
   ]
  },
  {
   "cell_type": "code",
   "execution_count": 2,
   "metadata": {},
   "outputs": [],
   "source": [
    "import csv\n",
    "authors_graph = nx.Graph()\n",
    "\n",
    "with open('data/CA-GrQc.txt', 'r') as f:\n",
    "    reader = csv.reader(f, delimiter='\\t')\n",
    "    for row in reader:\n",
    "        authors_graph.add_edge(row[0], row[1])"
   ]
  },
  {
   "cell_type": "markdown",
   "metadata": {},
   "source": [
    "## Ejercicio 1\n",
    "\n",
    "Cree una lista de tuplas (nodo, grado de nodo) y busque el nodo con el grado máximo.  \n",
    "grado de nodo = número de vecinos"
   ]
  },
  {
   "cell_type": "code",
   "execution_count": 28,
   "metadata": {},
   "outputs": [
    {
     "name": "stdout",
     "output_type": "stream",
     "text": [
      "El nodo con el grado máximo es: 21012\n"
     ]
    }
   ],
   "source": [
    "# Busqueda del nodo con grado máximo\n",
    "print(f\"El nodo con el grado máximo es: {max(nx.degree_centrality(authors_graph), key=nx.degree_centrality(authors_graph).get)}\" )"
   ]
  },
  {
   "cell_type": "code",
   "execution_count": 63,
   "metadata": {},
   "outputs": [
    {
     "data": {
      "text/plain": [
       "[('21012', 0.015455065827132226),\n",
       " ('21281', 0.01507345926349933),\n",
       " ('22691', 0.014691852699866437),\n",
       " ('12365', 0.014691852699866437),\n",
       " ('6610', 0.012974623163518412)]"
      ]
     },
     "execution_count": 63,
     "metadata": {},
     "output_type": "execute_result"
    }
   ],
   "source": [
    "# Creamos lista de tuplas con nodo y grado de nodo\n",
    "lista = [(k, v) for k, v in nx.degree_centrality(authors_graph).items()]\n",
    "\n",
    "def Sort_Tuple(tup): \n",
    "     '''Función para ordenar listas de tuplas'''\n",
    "     tup.sort(key = lambda x: x[1], reverse=True) \n",
    "     return tup \n",
    "\n",
    "Sort_Tuple(lista)[0:5] # Muestro los 5 nodos con mayor grado de nodo"
   ]
  },
  {
   "cell_type": "markdown",
   "metadata": {},
   "source": [
    "## Ejercicio 2\n",
    "\n",
    "Trace un histograma de centralidad de grado de author_graph.\n",
    "\n",
    "Sugerencia: `plt.hist(list_of_values)` trazará un histograma\n",
    "\n",
    "(count vs grado)"
   ]
  },
  {
   "cell_type": "code",
   "execution_count": 56,
   "metadata": {},
   "outputs": [
    {
     "data": {
      "image/png": "[encoded data removed]",
      "text/plain": [
       "<Figure size 432x288 with 1 Axes>"
      ]
     },
     "metadata": {
      "needs_background": "light"
     },
     "output_type": "display_data"
    }
   ],
   "source": [
    "centralidad = nx.degree_centrality(authors_graph)\n",
    "plt.hist(centralidad.values())\n",
    "plt.title('Histograma de centralidad de grado de red author_graph')\n",
    "plt.show()"
   ]
  },
  {
   "cell_type": "markdown",
   "metadata": {},
   "source": [
    "### Ejercicio 3\n",
    "\n",
    "Encuentre el \"número\" del autor '22504' del grafo `author_graph`, si no hay conexión entre los nodos, asignele el número '-1'.\n",
    "También trace un histograma del \"número\" autor '22504'.\n",
    "\n",
    "Encuentre la longitud de ruta más corta promedio en el primer componente, es decir, `graphs[0]`\n",
    "\n",
    "SUGERENCIA: `nx.shortest_path_length`\n",
    "\n",
    "**Lo hicimos en clase**"
   ]
  },
  {
   "cell_type": "code",
   "execution_count": 68,
   "metadata": {},
   "outputs": [],
   "source": [
    "# Guardamos subgrafos en una lista\n",
    "graphs = [authors_graph.subgraph(c).copy() for c in sorted(nx.connected_components(authors_graph), key=len, reverse=True)]\n",
    "\n",
    "d = {}\n",
    "for node in authors_graph.nodes():#para cada nodo\n",
    "    try:\n",
    "        #calcula la longitud del camino mas corto entre node y `22504`\n",
    "        d[node] = nx.shortest_path_length(graphs[0], '22504', node) #21012;22504\n",
    "    except:\n",
    "        #si arroja error (no hay camino) asinga un -1.\n",
    "        next"
   ]
  },
  {
   "cell_type": "code",
   "execution_count": 78,
   "metadata": {},
   "outputs": [
    {
     "data": {
      "text/plain": [
       "4"
      ]
     },
     "execution_count": 78,
     "metadata": {},
     "output_type": "execute_result"
    }
   ],
   "source": []
  }
 ],
 "metadata": {
  "interpreter": {
   "hash": "3c6ed772ad982441b9ed44d5e7d392983d85456792a32285fa271ac12ec17e52"
  },
  "kernelspec": {
   "display_name": "Python 3.9.7 64-bit ('ciencia-de-redes': conda)",
   "language": "python",
   "name": "python3"
  },
  "language_info": {
   "codemirror_mode": {
    "name": "ipython",
    "version": 3
   },
   "file_extension": ".py",
   "mimetype": "text/x-python",
   "name": "python",
   "nbconvert_exporter": "python",
   "pygments_lexer": "ipython3",
   "version": "3.9.7"
  },
  "orig_nbformat": 4
 },
 "nbformat": 4,
 "nbformat_minor": 2
}
